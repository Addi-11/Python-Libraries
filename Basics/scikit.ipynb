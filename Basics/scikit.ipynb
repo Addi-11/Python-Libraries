{
 "cells": [
  {
   "cell_type": "code",
   "execution_count": 2,
   "metadata": {},
   "outputs": [],
   "source": [
    "#Importing required packages\n",
    "import pandas as pd\n",
    "import seaborn as sns\n",
    "import matplotlib.pyplot as plt\n",
    "from sklearn.ensemble import RandomForestClassifier\n",
    "from sklearn.svm import SVC\n",
    "from sklearn import svm\n",
    "from sklearn.neural_network import MLPClassifier\n",
    "from sklearn.metrics import confusion_matrix, classification_report\n",
    "from sklearn.preprocessing import StandardScaler, LabelEncoder\n",
    "from sklearn.model_selection import train_test_split\n",
    "%matplotlib inline"
   ]
  },
  {
   "cell_type": "code",
   "execution_count": 20,
   "metadata": {},
   "outputs": [],
   "source": [
    "data = pd.read_csv('F:\\Py_lib\\Datasets\\Complications and Deaths - State.csv')\n",
    "df = pd.DataFrame(data)"
   ]
  },
  {
   "cell_type": "code",
   "execution_count": 39,
   "metadata": {},
   "outputs": [
    {
     "data": {
      "text/html": [
       "<div>\n",
       "<style scoped>\n",
       "    .dataframe tbody tr th:only-of-type {\n",
       "        vertical-align: middle;\n",
       "    }\n",
       "\n",
       "    .dataframe tbody tr th {\n",
       "        vertical-align: top;\n",
       "    }\n",
       "\n",
       "    .dataframe thead th {\n",
       "        text-align: right;\n",
       "    }\n",
       "</style>\n",
       "<table border=\"1\" class=\"dataframe\">\n",
       "  <thead>\n",
       "    <tr style=\"text-align: right;\">\n",
       "      <th></th>\n",
       "      <th>State</th>\n",
       "      <th>Measure Name</th>\n",
       "      <th>Measure ID</th>\n",
       "      <th>Number of Hospitals Same</th>\n",
       "      <th>Number of Hospitals Too Few</th>\n",
       "      <th>Measure Start Date</th>\n",
       "      <th>Measure End Date</th>\n",
       "    </tr>\n",
       "  </thead>\n",
       "  <tbody>\n",
       "    <tr>\n",
       "      <th>0</th>\n",
       "      <td>AK</td>\n",
       "      <td>Rate of complications for hip/knee replacement...</td>\n",
       "      <td>COMP_HIP_KNEE</td>\n",
       "      <td>8</td>\n",
       "      <td>2</td>\n",
       "      <td>04/01/2015</td>\n",
       "      <td>03/31/2018</td>\n",
       "    </tr>\n",
       "    <tr>\n",
       "      <th>1</th>\n",
       "      <td>AK</td>\n",
       "      <td>Death rate for heart attack patients</td>\n",
       "      <td>MORT_30_AMI</td>\n",
       "      <td>5</td>\n",
       "      <td>13</td>\n",
       "      <td>07/01/2015</td>\n",
       "      <td>06/30/2018</td>\n",
       "    </tr>\n",
       "    <tr>\n",
       "      <th>2</th>\n",
       "      <td>AK</td>\n",
       "      <td>Death rate for CABG surgery patients</td>\n",
       "      <td>MORT_30_CABG</td>\n",
       "      <td>2</td>\n",
       "      <td>0</td>\n",
       "      <td>07/01/2015</td>\n",
       "      <td>06/30/2018</td>\n",
       "    </tr>\n",
       "    <tr>\n",
       "      <th>3</th>\n",
       "      <td>AK</td>\n",
       "      <td>Death rate for COPD patients</td>\n",
       "      <td>MORT_30_COPD</td>\n",
       "      <td>12</td>\n",
       "      <td>11</td>\n",
       "      <td>07/01/2015</td>\n",
       "      <td>06/30/2018</td>\n",
       "    </tr>\n",
       "    <tr>\n",
       "      <th>4</th>\n",
       "      <td>AK</td>\n",
       "      <td>Death rate for heart failure patients</td>\n",
       "      <td>MORT_30_HF</td>\n",
       "      <td>9</td>\n",
       "      <td>14</td>\n",
       "      <td>07/01/2015</td>\n",
       "      <td>06/30/2018</td>\n",
       "    </tr>\n",
       "  </tbody>\n",
       "</table>\n",
       "</div>"
      ],
      "text/plain": [
       "  State                                       Measure Name     Measure ID  \\\n",
       "0    AK  Rate of complications for hip/knee replacement...  COMP_HIP_KNEE   \n",
       "1    AK               Death rate for heart attack patients    MORT_30_AMI   \n",
       "2    AK               Death rate for CABG surgery patients   MORT_30_CABG   \n",
       "3    AK                       Death rate for COPD patients   MORT_30_COPD   \n",
       "4    AK              Death rate for heart failure patients     MORT_30_HF   \n",
       "\n",
       "  Number of Hospitals Same Number of Hospitals Too Few Measure Start Date  \\\n",
       "0                        8                           2         04/01/2015   \n",
       "1                        5                          13         07/01/2015   \n",
       "2                        2                           0         07/01/2015   \n",
       "3                       12                          11         07/01/2015   \n",
       "4                        9                          14         07/01/2015   \n",
       "\n",
       "  Measure End Date  \n",
       "0       03/31/2018  \n",
       "1       06/30/2018  \n",
       "2       06/30/2018  \n",
       "3       06/30/2018  \n",
       "4       06/30/2018  "
      ]
     },
     "execution_count": 39,
     "metadata": {},
     "output_type": "execute_result"
    }
   ],
   "source": [
    "df.head(5)"
   ]
  },
  {
   "cell_type": "code",
   "execution_count": 40,
   "metadata": {
    "scrolled": true
   },
   "outputs": [
    {
     "name": "stdout",
     "output_type": "stream",
     "text": [
      "<class 'pandas.core.frame.DataFrame'>\n",
      "RangeIndex: 1064 entries, 0 to 1063\n",
      "Data columns (total 7 columns):\n",
      "State                          1064 non-null object\n",
      "Measure Name                   1064 non-null object\n",
      "Measure ID                     1064 non-null object\n",
      "Number of Hospitals Same       1064 non-null object\n",
      "Number of Hospitals Too Few    1064 non-null object\n",
      "Measure Start Date             1064 non-null object\n",
      "Measure End Date               1064 non-null object\n",
      "dtypes: object(7)\n",
      "memory usage: 58.3+ KB\n"
     ]
    }
   ],
   "source": [
    "df.info()"
   ]
  },
  {
   "cell_type": "code",
   "execution_count": 41,
   "metadata": {
    "scrolled": true
   },
   "outputs": [
    {
     "data": {
      "text/plain": [
       "State                          0\n",
       "Measure Name                   0\n",
       "Measure ID                     0\n",
       "Number of Hospitals Same       0\n",
       "Number of Hospitals Too Few    0\n",
       "Measure Start Date             0\n",
       "Measure End Date               0\n",
       "dtype: int64"
      ]
     },
     "execution_count": 41,
     "metadata": {},
     "output_type": "execute_result"
    }
   ],
   "source": [
    "df.isnull().sum()"
   ]
  },
  {
   "cell_type": "code",
   "execution_count": 42,
   "metadata": {
    "scrolled": true
   },
   "outputs": [
    {
     "data": {
      "text/plain": [
       "array(['AK', 'AL', 'AR', 'AS', 'AZ', 'CA', 'CO', 'CT', 'DC', 'DE', 'FL',\n",
       "       'GA', 'GU', 'HI', 'IA', 'ID', 'IL', 'IN', 'KS', 'KY', 'LA', 'MA',\n",
       "       'MD', 'ME', 'MI', 'MN', 'MO', 'MP', 'MS', 'MT', 'NC', 'ND', 'NE',\n",
       "       'NH', 'NJ', 'NM', 'NV', 'NY', 'OH', 'OK', 'OR', 'PA', 'PR', 'RI',\n",
       "       'SC', 'SD', 'TN', 'TX', 'UT', 'VA', 'VI', 'VT', 'WA', 'WI', 'WV',\n",
       "       'WY'], dtype=object)"
      ]
     },
     "execution_count": 42,
     "metadata": {},
     "output_type": "execute_result"
    }
   ],
   "source": [
    "df['State'].unique()"
   ]
  },
  {
   "cell_type": "code",
   "execution_count": 43,
   "metadata": {
    "scrolled": true
   },
   "outputs": [
    {
     "data": {
      "text/plain": [
       "<bound method IndexOpsMixin.value_counts of 0       AK\n",
       "1       AK\n",
       "2       AK\n",
       "3       AK\n",
       "4       AK\n",
       "5       AK\n",
       "6       AK\n",
       "7       AK\n",
       "8       AK\n",
       "9       AK\n",
       "10      AK\n",
       "11      AK\n",
       "12      AK\n",
       "13      AK\n",
       "14      AK\n",
       "15      AK\n",
       "16      AK\n",
       "17      AK\n",
       "18      AK\n",
       "19      AL\n",
       "20      AL\n",
       "21      AL\n",
       "22      AL\n",
       "23      AL\n",
       "24      AL\n",
       "25      AL\n",
       "26      AL\n",
       "27      AL\n",
       "28      AL\n",
       "29      AL\n",
       "        ..\n",
       "1034    WV\n",
       "1035    WV\n",
       "1036    WV\n",
       "1037    WV\n",
       "1038    WV\n",
       "1039    WV\n",
       "1040    WV\n",
       "1041    WV\n",
       "1042    WV\n",
       "1043    WV\n",
       "1044    WV\n",
       "1045    WY\n",
       "1046    WY\n",
       "1047    WY\n",
       "1048    WY\n",
       "1049    WY\n",
       "1050    WY\n",
       "1051    WY\n",
       "1052    WY\n",
       "1053    WY\n",
       "1054    WY\n",
       "1055    WY\n",
       "1056    WY\n",
       "1057    WY\n",
       "1058    WY\n",
       "1059    WY\n",
       "1060    WY\n",
       "1061    WY\n",
       "1062    WY\n",
       "1063    WY\n",
       "Name: State, Length: 1064, dtype: object>"
      ]
     },
     "execution_count": 43,
     "metadata": {},
     "output_type": "execute_result"
    }
   ],
   "source": [
    "df['State'].value_counts"
   ]
  },
  {
   "cell_type": "code",
   "execution_count": 50,
   "metadata": {},
   "outputs": [
    {
     "data": {
      "text/plain": [
       "<matplotlib.axes._subplots.AxesSubplot at 0x2781def0e48>"
      ]
     },
     "execution_count": 50,
     "metadata": {},
     "output_type": "execute_result"
    },
    {
     "data": {
      "image/png": "[encoded data removed]",
      "text/plain": [
       "<Figure size 1152x648 with 1 Axes>"
      ]
     },
     "metadata": {
      "needs_background": "light"
     },
     "output_type": "display_data"
    }
   ],
   "source": [
    "fig, ax = plt.subplots()\n",
    "fig.set_size_inches(16, 9)\n",
    "sns.countplot(df['State'])"
   ]
  },
  {
   "cell_type": "code",
   "execution_count": null,
   "metadata": {},
   "outputs": [],
   "source": []
  }
 ],
 "metadata": {
  "kernelspec": {
   "display_name": "Python 3",
   "language": "python",
   "name": "python3"
  },
  "language_info": {
   "codemirror_mode": {
    "name": "ipython",
    "version": 3
   },
   "file_extension": ".py",
   "mimetype": "text/x-python",
   "name": "python",
   "nbconvert_exporter": "python",
   "pygments_lexer": "ipython3",
   "version": "3.7.3"
  }
 },
 "nbformat": 4,
 "nbformat_minor": 2
}
